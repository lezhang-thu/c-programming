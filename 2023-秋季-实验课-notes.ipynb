{
 "cells": [
  {
   "cell_type": "markdown",
   "id": "499f6cf9",
   "metadata": {
    "slideshow": {
     "slide_type": "slide"
    }
   },
   "source": [
    "# Linux相关命令熟悉\n",
    "\n",
    "本文介绍了一些常用的Linux命令：\n",
    "\n",
    "1. **ls**：列出目录中的文件和子目录。\n",
    "   - 例子：`ls` 或 `ls /path/to/directory`\n",
    "   - 示例输出：\n",
    "     ```\n",
    "     file1.txt  file2.txt  directory1\n",
    "     ```\n",
    "\n",
    "2. **cd**：改变当前工作目录。\n",
    "   - 例子：`cd /path/to/directory` 或 `cd ..` (返回上级目录)\n",
    "   - 示例输出：（假设当前目录是`/home/user`）\n",
    "     ```\n",
    "     $ cd /path/to/directory\n",
    "     $ pwd\n",
    "     /path/to/directory\n",
    "     \n",
    "     $ cd ..\n",
    "     $ pwd\n",
    "     /path/to\n",
    "     ```\n",
    "\n",
    "3. **find**：在指定目录中查找文件或目录。\n",
    "   - 例子：`find /path/to/directory -name \"filename\"`\n",
    "   - 示例输出：\n",
    "     ```\n",
    "     /path/to/directory/filename\n",
    "     ```\n",
    "\n",
    "4. **grep**：在文件中搜索指定的模式。grep命令默认是区分大小写的，所以搜索的是区分大小写的字符串。如果要忽略大小写，可以使用-i选项。\n",
    "   - 例子：`grep pattern file_name`\n",
    "   - 示例输出：\n",
    "     ```\n",
    "     $ grep -i \"hello\" file.txt\n",
    "     Hello, World!\n",
    "     ```\n",
    "\n",
    "5. **gcc**：GNU编译器集合，用于编译C和C++程序。\n",
    "   - 例子：`gcc -o output_file input_file.c`\n",
    "   - 示例输出：（编译名为`hello`的C程序）\n",
    "     ```\n",
    "     $ gcc -o hello hello.c\n",
    "     ```\n",
    "\n",
    "6. **cat**：将文件的内容打印到标准输出。\n",
    "   - 例子：`cat file_name`\n",
    "   - 示例输出：\n",
    "     ```\n",
    "     $ cat file.txt\n",
    "     This is the content of the file.\n",
    "     ```\n",
    "\n",
    "7. **mkdir**：创建新的目录。\n",
    "   - 例子：`mkdir directory_name`\n",
    "   - 示例输出：\n",
    "     ```\n",
    "     $ mkdir new_directory\n",
    "     ```\n",
    "\n",
    "8. **mv**：移动文件和目录，也可以用于重命名文件和目录。\n",
    "   - 例子：`mv file_name destination` 或 `mv old_name new_name`\n",
    "   - 示例输出：（重命名文件）\n",
    "     ```\n",
    "     $ mv old_name.txt new_name.txt\n",
    "     ```\n",
    "\n",
    "9. **rm**：删除文件或目录。\n",
    "   - 例子：`rm file_name` 或 `rm -r directory_name` (递归删除目录)\n",
    "   - 示例输出：（删除文件）\n",
    "     ```\n",
    "     $ rm file.txt\n",
    "     ```\n",
    "\n",
    "10. **clear**：清除终端屏幕上的内容。\n",
    "    - 例子：`clear`\n",
    "    - 示例输出：（清除屏幕上的内容）"
   ]
  },
  {
   "cell_type": "markdown",
   "id": "05ab8390",
   "metadata": {
    "slideshow": {
     "slide_type": "slide"
    }
   },
   "source": [
    "Linux提供了一些有用的命令和工具来帮助用户查找命令的使用方法和快捷键。\n",
    "\n",
    "1. **tldr**：`tldr`是\"Too Long, Didn't Read\"的简称，它提供了命令的简明摘要和示例，对于快速查找常用命令的使用方法非常有用。可以使用`npm`（Node Package Manager）来安装`tldr`命令。\n",
    "\n",
    "   示例：`tldr ls` 会显示`ls`命令的简明摘要和示例。\n",
    "\n",
    "```\n",
    "ls\n",
    "\n",
    "List directory contents.\n",
    "\n",
    "- List files and directories in the current directory:\n",
    "  ls\n",
    "\n",
    "- List all files and directories, including hidden ones:\n",
    "  ls -a\n",
    "\n",
    "- List files and directories in long format with detailed information:\n",
    "  ls -l\n",
    "\n",
    "- List files and directories sorted by modification time (newest first):\n",
    "  ls -lt\n",
    "\n",
    "- List files and directories in a human-readable format (e.g., file sizes in KB, MB):\n",
    "  ls -lh\n",
    "\n",
    "- Recursively list files and directories in the current directory and its subdirectories:\n",
    "  ls -R\n",
    "\n",
    "- List only directories (excluding files):\n",
    "  ls -d */\n",
    "\n",
    "- Reverse the order of the list:\n",
    "  ls -r\n",
    "\n",
    "- Display the file or directory permissions, owner, size, and modification date:\n",
    "  ls -l\n",
    "\n",
    "- List files and directories sorted by size (largest first):\n",
    "  ls -S\n",
    "\n",
    "- List files and directories sorted by extension:\n",
    "  ls -X\n",
    "```\n",
    "\n",
    "这些示例演示了`ls`命令的一些常见用法，包括列出当前目录的文件和目录、显示隐藏文件、以长格式显示详细信息、按修改时间排序等等。"
   ]
  },
  {
   "cell_type": "markdown",
   "id": "9acc9b06",
   "metadata": {
    "slideshow": {
     "slide_type": "slide"
    }
   },
   "source": [
    "## How can I use grep to find a word inside a folder?\n",
    "\n",
    "`grep -nr 'yourString*' .`\n",
    "\n",
    "| Option | 解释 |\n",
    "|---|---|\n",
    "|`-n` | Show the line numbers of the matches|\n",
    "|`-r` | Recursive search |\n",
    "|`.` | Directory for search |\n",
    "\n",
    "Ref: [https://quickref.me/grep](https://quickref.me/grep)"
   ]
  },
  {
   "cell_type": "markdown",
   "id": "ead32111",
   "metadata": {
    "slideshow": {
     "slide_type": "slide"
    }
   },
   "source": [
    "## `find`\n",
    "\n",
    "\n",
    "\n",
    "[https://quickref.me/find](https://quickref.me/find)"
   ]
  },
  {
   "cell_type": "markdown",
   "id": "ffb1ae62",
   "metadata": {
    "slideshow": {
     "slide_type": "slide"
    }
   },
   "source": [
    "`printf \"hello\\nworld\\n\"`\n",
    "\n",
    "`printf` behaves more consistently across different environments than `echo`"
   ]
  },
  {
   "cell_type": "markdown",
   "id": "3e164482",
   "metadata": {
    "slideshow": {
     "slide_type": "slide"
    }
   },
   "source": [
    "## 实验报告要求\n",
    "\n",
    "1. 只写基于虚拟机OpenEuler操作系统进行的实验（请不要撰写弹性云服务器ECS相关内容）\n",
    "1. 截图展示2个Linux命令（在虚拟机中）的使用：grep和find\n",
    "1. 在虚拟机中截图展示实验指导书中**平方根求和**程序的编译及执行结果\n",
    "\n",
    "其他要求：\n",
    "\n",
    "实验课后提交PDF格式的实验报告。要求：\n",
    "\n",
    "* 自己在实验中遇到的困难，以及如何解决的\n",
    "* 对关键代码的分析\n",
    "* 运行结果截图\n",
    "* 格式要求：\n",
    "    * 字体：中文为仿宋_GB2312，英文及代码为Courier New；\n",
    "    * 字体大小为五号\n",
    "    * 标题为：计算机系统与程序设计-实验1，字体大小为三号，居中\n"
   ]
  }
 ],
 "metadata": {
  "celltoolbar": "幻灯片",
  "kernelspec": {
   "display_name": "Python 3",
   "language": "python",
   "name": "python3"
  },
  "language_info": {
   "codemirror_mode": {
    "name": "ipython",
    "version": 3
   },
   "file_extension": ".py",
   "mimetype": "text/x-python",
   "name": "python",
   "nbconvert_exporter": "python",
   "pygments_lexer": "ipython3",
   "version": "3.8.8"
  }
 },
 "nbformat": 4,
 "nbformat_minor": 5
}
