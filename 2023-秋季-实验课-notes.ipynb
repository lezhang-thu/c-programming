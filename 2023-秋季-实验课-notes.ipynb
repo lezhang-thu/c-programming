{
 "cells": [
  {
   "cell_type": "markdown",
   "id": "f6e3fd2a",
   "metadata": {
    "slideshow": {
     "slide_type": "slide"
    }
   },
   "source": [
    "# 弹性公网IP\n",
    "\n",
    "华为云服务器ECS\n",
    "\n",
    "1. 注意“释放行为”，**注意**勾选“随实例释放”\n",
    "\n",
    "   （对于设置了随实例释放的弹性公网IP，将在删除云服务器同时执行删除。）\n",
    "\n",
    "2. 课堂演示未勾选时会出现什么"
   ]
  },
  {
   "cell_type": "markdown",
   "id": "7725b10c",
   "metadata": {
    "slideshow": {
     "slide_type": "slide"
    }
   },
   "source": [
    "# GCC编译\n",
    "\n",
    "`gcc -mabi=lp64 -march=armv8-a`\n",
    "\n",
    "gcc 是 GNU Compiler Collection 的缩写，它是一套广泛使用的开源编译器集合。而 `-mabi=lp64` 和 `-march=armv8-a` 是 gcc 的两个编译参数，用于指定编译器生成代码的目标架构和数据模型。\n",
    "\n",
    "1. `-mabi=lp64`: 这个参数指定了数据模型的 ABI（Application Binary Interface），其中 \"lp64\" 代表数据模型的特征，即长整型（long）、指针（pointer）和寄存器（register）的大小都是 64 位。在这种数据模型中，int 类型为 32 位，而 long 和指针类型为 64 位。\n",
    "\n",
    "2. `-march=armv8-a`: 这个参数指定了目标架构，即编译器生成的代码将针对 ARMv8-A 架构进行优化。ARMv8-A 是 ARM 架构的一种指令集架构，它引入了 64 位的 ARM64 指令集，并支持向下兼容 32 位 ARM 指令集。\n",
    "\n",
    "综上所述，使用 `-mabi=lp64 -march=armv8-a` 参数编译代码时，gcc 将生成针对 ARMv8-A 架构的代码，并使用 LP64 数据模型，其中长整型和指针的大小为 64 位，而整数类型为 32 位。这样的设置通常用于编译 64 位 ARM 架构的应用程序。\n"
   ]
  },
  {
   "cell_type": "markdown",
   "id": "8e454cb9",
   "metadata": {
    "slideshow": {
     "slide_type": "slide"
    }
   },
   "source": [
    "\n",
    "1. `-g`: 这个参数是用来生成调试信息的。它告诉编译器在生成的可执行文件中包含调试符号，以便在调试过程中能够进行源代码级别的调试。调试信息包括变量名、行号等，可以帮助开发人员进行程序调试和错误排查。\n",
    "\n",
    "2. `-lm`: 这个参数用于链接数学库（libm）。在 C 语言中，数学函数（如 sin、cos、sqrt 等）被定义在数学库中。使用 `-lm` 参数告诉编译器在链接阶段将数学库与程序进行链接，以便能够使用数学函数。\n",
    "\n",
    "综上所述，使用 `-g` 参数编译代码时，gcc 会生成包含调试信息的可执行文件，以便进行源代码级别的调试。而使用 `-lm` 参数在链接阶段将数学库与程序进行链接，以便使用数学函数。这些参数在开发和调试过程中经常使用。"
   ]
  },
  {
   "cell_type": "markdown",
   "id": "499f6cf9",
   "metadata": {
    "slideshow": {
     "slide_type": "slide"
    }
   },
   "source": [
    "# Linux相关命令熟悉\n",
    "\n",
    "需要学习的Linux命令：10个\n",
    "\n",
    "1. **ls**：列出目录中的文件和子目录。\n",
    "   - 例：`ls` 或 `ls /path/to/directory`\n",
    "   - 示例输出：\n",
    "     ```\n",
    "     file1.txt  file2.txt  directory1\n",
    "     ```\n",
    "\n",
    "2. **cd**：改变当前工作目录。\n",
    "   - 例：`cd /path/to/directory` 或 `cd ..`（返回上级目录）\n",
    "   - 示例输出（假设当前目录是`/home/user`）：\n",
    "     ```\n",
    "     $ cd /path/to/directory\n",
    "     \n",
    "     $ pwd\n",
    "     /path/to/directory\n",
    "     \n",
    "     $ cd ..\n",
    "     \n",
    "     $ pwd\n",
    "     /path/to\n",
    "     ```\n",
    "\n",
    "3. **find**：在指定目录中查找文件或目录。\n",
    "   - 例：`find /path/to/directory -name \"filename\"`\n",
    "   - 示例输出：\n",
    "     ```\n",
    "     /path/to/directory/filename\n",
    "     ```\n",
    "\n",
    "4. **grep**：在文件中搜索指定的模式。\n",
    "\n",
    "   grep命令默认是区分大小写的，所以搜索的是区分大小写的字符串。\n",
    "   \n",
    "   如果要忽略大小写，可以使用-i选项。\n",
    "   - 例：`grep pattern file_name`\n",
    "   - 示例输出：\n",
    "     ```\n",
    "     $ grep -i \"hello\" file.txt\n",
    "     Hello, World!\n",
    "     ```\n",
    "\n",
    "5. **gcc**：GNU编译器集合，用于编译C和C++程序。\n",
    "   - 例：`gcc -o output_file input_file.c`\n",
    "   - 示例输出：\n",
    "     ```\n",
    "     $ gcc -o hello hello.c\n",
    "     ```\n",
    "\n",
    "6. **cat**：将文件的内容打印到标准输出。\n",
    "   - 例：`cat file_name`\n",
    "   - 示例输出：\n",
    "     ```\n",
    "     $ cat file.txt\n",
    "     This is the content of the file.\n",
    "     ```\n",
    "\n",
    "7. **mkdir**：创建新的目录。\n",
    "   - 例：`mkdir directory_name`\n",
    "   - 示例输出：\n",
    "     ```\n",
    "     $ mkdir new_directory\n",
    "     ```\n",
    "\n",
    "8. **mv**：移动文件和目录，也可以用于重命名文件和目录。\n",
    "   - 例：`mv file_name destination` 或 `mv old_name new_name`\n",
    "   - 示例输出（重命名文件）：\n",
    "     ```\n",
    "     $ mv old_name.txt new_name.txt\n",
    "     ```\n",
    "\n",
    "9. **rm**：删除文件或目录。\n",
    "   - 例：`rm file_name` 或 `rm -r directory_name` (递归删除目录)\n",
    "   - 示例输出（删除文件）：\n",
    "     ```\n",
    "     $ rm file.txt\n",
    "     ```\n",
    "\n",
    "10. **clear**：清除终端屏幕上的内容。"
   ]
  },
  {
   "cell_type": "markdown",
   "id": "05ab8390",
   "metadata": {
    "slideshow": {
     "slide_type": "slide"
    }
   },
   "source": [
    "# 如何学习\n",
    "\n",
    "1. **tldr**：`tldr`是\"Too Long, Didn't Read\"的简称，它提供了命令的简明摘要和示例。\n",
    "\n",
    "   示例：`tldr ls` 会显示`ls`命令的简明摘要和示例。\n",
    "1. TLDR is available as a Snap package.\n",
    "   ```\n",
    "   $ sudo snap install tldr\n",
    "   $ tldr -u（Update the local cache）\n",
    "   ```"
   ]
  },
  {
   "cell_type": "markdown",
   "id": "9acc9b06",
   "metadata": {
    "slideshow": {
     "slide_type": "slide"
    }
   },
   "source": [
    "## How can I use grep to find a word inside a folder?\n",
    "\n",
    "`grep -nr 'yourString*' .`\n",
    "\n",
    "| Option | 解释 |\n",
    "|---|---|\n",
    "|`-n` | Show the line numbers of the matches|\n",
    "|`-r` | Recursive search |\n",
    "|`.` | Directory for search |\n",
    "\n",
    "Ref: [https://quickref.me/grep](https://quickref.me/grep)"
   ]
  },
  {
   "cell_type": "markdown",
   "id": "ead32111",
   "metadata": {
    "slideshow": {
     "slide_type": "slide"
    }
   },
   "source": [
    "## `find`\n",
    "\n",
    "\n",
    "\n",
    "[https://quickref.me/find](https://quickref.me/find)"
   ]
  },
  {
   "cell_type": "markdown",
   "id": "ffb1ae62",
   "metadata": {
    "slideshow": {
     "slide_type": "slide"
    }
   },
   "source": [
    "`printf \"hello\\nworld\\n\"`\n",
    "\n",
    "`printf` behaves more consistently across different environments than `echo`"
   ]
  },
  {
   "cell_type": "markdown",
   "id": "3e164482",
   "metadata": {
    "slideshow": {
     "slide_type": "slide"
    }
   },
   "source": [
    "## 实验报告要求\n",
    "\n",
    "1. 只写基于虚拟机OpenEuler操作系统进行的实验（请不要撰写弹性云服务器ECS相关内容）\n",
    "1. 截图展示2个Linux命令（在虚拟机中）的使用：grep和find\n",
    "1. 在虚拟机中截图展示实验指导书中**平方根求和**程序的编译及执行结果\n",
    "\n",
    "其他要求：\n",
    "\n",
    "实验课后提交PDF格式的实验报告。要求：\n",
    "\n",
    "* 自己在实验中遇到的困难，以及如何解决的\n",
    "* 对关键代码的分析\n",
    "* 运行结果截图\n",
    "* 格式要求：\n",
    "    * 字体：中文为仿宋_GB2312，英文及代码为Courier New；\n",
    "    * 字体大小为五号\n",
    "    * 标题为：计算机系统与程序设计-实验1，字体大小为三号，居中\n"
   ]
  }
 ],
 "metadata": {
  "celltoolbar": "幻灯片",
  "kernelspec": {
   "display_name": "Python 3",
   "language": "python",
   "name": "python3"
  },
  "language_info": {
   "codemirror_mode": {
    "name": "ipython",
    "version": 3
   },
   "file_extension": ".py",
   "mimetype": "text/x-python",
   "name": "python",
   "nbconvert_exporter": "python",
   "pygments_lexer": "ipython3",
   "version": "3.8.8"
  }
 },
 "nbformat": 4,
 "nbformat_minor": 5
}
