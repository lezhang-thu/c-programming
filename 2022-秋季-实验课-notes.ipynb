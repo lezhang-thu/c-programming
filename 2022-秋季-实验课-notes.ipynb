{
 "cells": [
  {
   "cell_type": "markdown",
   "id": "499f6cf9",
   "metadata": {
    "slideshow": {
     "slide_type": "slide"
    }
   },
   "source": [
    "# linux相关命令熟悉\n",
    "\n",
    "* 需要学习的linux命令：10个\n",
    "\n",
    "* 列表如下：ls、cd、find、grep、gcc、cat、mkdir、mv、rm、clear\n",
    "（练习上述命令时，注意用cheat命令帮助理解）\n",
    "\n",
    "* 参考链接：\n",
    "[https://www.cnblogs.com/rocedu/p/4902411.html](https://www.cnblogs.com/rocedu/p/4902411.html)\n",
    "及\n",
    "[https://www.cnblogs.com/rocedu/p/14891816.html](https://www.cnblogs.com/rocedu/p/14891816.html)"
   ]
  },
  {
   "cell_type": "markdown",
   "id": "9acc9b06",
   "metadata": {
    "slideshow": {
     "slide_type": "slide"
    }
   },
   "source": [
    "## How can I use grep to find a word inside a folder?\n",
    "\n",
    "`grep -nr 'yourString*' .`\n",
    "\n",
    "| Option | 解释 |\n",
    "|---|---|\n",
    "|`-n` | Show the line numbers of the matches|\n",
    "|`-r` | Recursive search |\n",
    "|`.` | Directory for search |\n",
    "\n",
    "Ref: [https://quickref.me/grep](https://quickref.me/grep)"
   ]
  },
  {
   "cell_type": "markdown",
   "id": "ead32111",
   "metadata": {
    "slideshow": {
     "slide_type": "slide"
    }
   },
   "source": [
    "## `find`\n",
    "\n",
    "\n",
    "\n",
    "[https://quickref.me/find](https://quickref.me/find)"
   ]
  }
 ],
 "metadata": {
  "celltoolbar": "Slideshow",
  "kernelspec": {
   "display_name": "Python 3",
   "language": "python",
   "name": "python3"
  },
  "language_info": {
   "codemirror_mode": {
    "name": "ipython",
    "version": 3
   },
   "file_extension": ".py",
   "mimetype": "text/x-python",
   "name": "python",
   "nbconvert_exporter": "python",
   "pygments_lexer": "ipython3",
   "version": "3.8.8"
  }
 },
 "nbformat": 4,
 "nbformat_minor": 5
}
