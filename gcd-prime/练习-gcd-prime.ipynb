{
 "cells": [
  {
   "cell_type": "markdown",
   "id": "43dda6b2",
   "metadata": {
    "slideshow": {
     "slide_type": "slide"
    }
   },
   "source": [
    "## 最大公约数\n",
    "\n",
    "* $\\text{gcd}(a,b)=\\text{gcd}(b, a\\mathop{\\mathrm{mod}}b)$\n",
    "* 示例：\n",
    "\n",
    "\\begin{equation*}\n",
    "\\begin{split}\n",
    "\\mathrm{EUCLID}(30,21)&=\\mathrm{EUCLID}(21,9)\\\\\n",
    "&=\\mathrm{EUCLID}(9,3)\\\\\n",
    "&=\\mathrm{EUCLID}(3,0)\\\\\n",
    "&=3\n",
    "\\end{split}\n",
    "\\end{equation*}"
   ]
  },
  {
   "cell_type": "markdown",
   "id": "e3774b87",
   "metadata": {
    "slideshow": {
     "slide_type": "slide"
    }
   },
   "source": [
    "## 最大公约数\n",
    "\n",
    "* Most computers can perform the operations of subtraction, testing the parity (odd or even) of a binary integer, and halving more quickly than computing remainders\n",
    "* avoid the remainder computations used in Euclid’s algorithm"
   ]
  },
  {
   "cell_type": "markdown",
   "id": "7cabd2d6",
   "metadata": {
    "slideshow": {
     "slide_type": "slide"
    }
   },
   "source": [
    "## 最大公约数\n",
    "\n",
    "* $\\text{gcd}(a,b)=2\\cdot \\text{gcd}(a/2, b/2)$，$a$、$b$均为偶数\n",
    "* $\\text{gcd}(a,b)=\\text{gcd}(a, b/2)$，$a$为奇数、$b$为偶数\n",
    "* $\\text{gcd}(a,b)=\\text{gcd}((a-b)/2,b)$，$a$、$b$均为奇数"
   ]
  },
  {
   "cell_type": "markdown",
   "id": "a9fbddba",
   "metadata": {
    "slideshow": {
     "slide_type": "slide"
    }
   },
   "source": [
    "## 素数\n",
    "\n",
    "* Prime：是不能被1和它本身以外的其他整数整除的正整数\n",
    "* 负数、0和1都不是素数\n",
    "* $n\\ge 2$，如果$n$不为素数，有：$n=a\\times b$，且$2\\le a,b<n$\n",
    "* 若$a\\le b$，则：$a^2\\le n$，所以，有：$a\\le\\lfloor\\sqrt{n}\\rfloor$\n",
    "* 学习`gcd-prime/prime.c`中的函数`isPrime`"
   ]
  }
 ],
 "metadata": {
  "celltoolbar": "Slideshow",
  "kernelspec": {
   "display_name": "Python 3",
   "language": "python",
   "name": "python3"
  },
  "language_info": {
   "codemirror_mode": {
    "name": "ipython",
    "version": 3
   },
   "file_extension": ".py",
   "mimetype": "text/x-python",
   "name": "python",
   "nbconvert_exporter": "python",
   "pygments_lexer": "ipython3",
   "version": "3.8.8"
  }
 },
 "nbformat": 4,
 "nbformat_minor": 5
}
